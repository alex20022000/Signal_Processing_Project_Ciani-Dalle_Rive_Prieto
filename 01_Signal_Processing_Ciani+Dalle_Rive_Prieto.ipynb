{
  "nbformat": 4,
  "nbformat_minor": 0,
  "metadata": {
    "colab": {
      "provenance": [],
      "authorship_tag": "ABX9TyP2UZ31nxeBCDmq4tWC92Np",
      "include_colab_link": true
    },
    "kernelspec": {
      "name": "python3",
      "display_name": "Python 3"
    },
    "language_info": {
      "name": "python"
    }
  },
  "cells": [
    {
      "cell_type": "markdown",
      "metadata": {
        "id": "view-in-github",
        "colab_type": "text"
      },
      "source": [
        "<a href=\"https://colab.research.google.com/github/alex20022000/Signal_Processing_Project_Ciani-Dalle_Rive_Prieto/blob/main/01_Signal_Processing_Ciani%2BDalle_Rive_Prieto.ipynb\" target=\"_parent\"><img src=\"https://colab.research.google.com/assets/colab-badge.svg\" alt=\"Open In Colab\"/></a>"
      ]
    },
    {
      "cell_type": "markdown",
      "source": [
        "# Información de la LDR"
      ],
      "metadata": {
        "id": "i9vJZPEv9p8S"
      }
    },
    {
      "cell_type": "markdown",
      "source": [
        "Un fotoresistor o LDR (light-dependent resistor),está conformado por un semicondiuctor (sulfuro de Cadmio) el cual al recibir los fotones incidentes de la luz, provoca que los electrones pasen a la banda de conducción, disminuyendo así, la resistencia del componenete."
      ],
      "metadata": {
        "id": "RCg0SHR0bxg8"
      }
    },
    {
      "cell_type": "markdown",
      "source": [
        "La resistencia de estos componentes suele variar entre: 50 ohms (plena luz) y 1M ohms (oscuridad).  "
      ],
      "metadata": {
        "id": "Ru6M187DcfM7"
      }
    },
    {
      "cell_type": "markdown",
      "source": [
        "En cuanto a la medición de la iluminancia, éste sensor no sería preciso debido a su gran variación de resistencia respecto a la temperatura y a la longitud de onda de la señal:"
      ],
      "metadata": {
        "id": "C_5r4lVWfZbi"
      }
    },
    {
      "cell_type": "code",
      "source": [],
      "metadata": {
        "id": "DrC8QCbvfszV"
      },
      "execution_count": null,
      "outputs": []
    },
    {
      "cell_type": "markdown",
      "source": [],
      "metadata": {
        "id": "9qNDUjZJ-xX-"
      }
    },
    {
      "cell_type": "markdown",
      "source": [
        "#Bibliografía"
      ],
      "metadata": {
        "id": "I46Zad6SbnkT"
      }
    },
    {
      "cell_type": "markdown",
      "source": [
        "https://www.luisllamas.es/medir-nivel-luz-con-arduino-y-fotoresistencia-ldr/"
      ],
      "metadata": {
        "id": "Ed7_ZfRJbp3a"
      }
    }
  ]
}