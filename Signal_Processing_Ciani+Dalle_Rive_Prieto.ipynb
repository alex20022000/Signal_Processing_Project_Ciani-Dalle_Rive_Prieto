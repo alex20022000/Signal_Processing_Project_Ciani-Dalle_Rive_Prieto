{
  "nbformat": 4,
  "nbformat_minor": 0,
  "metadata": {
    "colab": {
      "provenance": [],
      "authorship_tag": "ABX9TyNTL9m1F3yGRwpD7sYO8kVV",
      "include_colab_link": true
    },
    "kernelspec": {
      "name": "python3",
      "display_name": "Python 3"
    },
    "language_info": {
      "name": "python"
    }
  },
  "cells": [
    {
      "cell_type": "markdown",
      "metadata": {
        "id": "view-in-github",
        "colab_type": "text"
      },
      "source": [
        "<a href=\"https://colab.research.google.com/github/alex20022000/Signal_Processing_Project_Ciani-Dalle_Rive_Prieto/blob/main/Signal_Processing_Ciani%2BDalle_Rive_Prieto.ipynb\" target=\"_parent\"><img src=\"https://colab.research.google.com/assets/colab-badge.svg\" alt=\"Open In Colab\"/></a>"
      ]
    },
    {
      "cell_type": "markdown",
      "source": [
        "Texto de ejemplo para testing de sincronización"
      ],
      "metadata": {
        "id": "i9vJZPEv9p8S"
      }
    },
    {
      "cell_type": "markdown",
      "source": [
        "Test2"
      ],
      "metadata": {
        "id": "S7MDsNav-Fu0"
      }
    },
    {
      "cell_type": "code",
      "execution_count": null,
      "metadata": {
        "id": "Nz00F_KM9fIH"
      },
      "outputs": [],
      "source": []
    }
  ]
}