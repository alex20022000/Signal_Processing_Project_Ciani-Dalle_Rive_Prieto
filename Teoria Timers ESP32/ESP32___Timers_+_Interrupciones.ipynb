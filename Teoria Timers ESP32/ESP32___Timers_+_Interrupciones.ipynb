{
  "nbformat": 4,
  "nbformat_minor": 0,
  "metadata": {
    "colab": {
      "provenance": []
    },
    "kernelspec": {
      "name": "python3",
      "display_name": "Python 3"
    },
    "language_info": {
      "name": "python"
    }
  },
  "cells": [
    {
      "cell_type": "markdown",
      "source": [
        "Link a la documentacion de espressif:  \n",
        "https://espressif-docs.readthedocs-hosted.com/projects/arduino-esp32/en/latest/api/timer.html#timerattachinterrupt"
      ],
      "metadata": {
        "id": "IjCEdbO9ENZ9"
      }
    },
    {
      "cell_type": "markdown",
      "source": [
        "#Timers con ESP32"
      ],
      "metadata": {
        "id": "YY6EuWmW0WkX"
      }
    },
    {
      "cell_type": "markdown",
      "source": [
        "Los timers,son contadores ascendentes o descendentes en el tiempo. Son capaces de reiniciarse por si mismos.  \n",
        "**Puntero**\n",
        "```\n",
        "hw_timer_t *nombre;\n",
        "```\n",
        "Retorna un puntero a la estructura de tipo timer.\n",
        "\n",
        "**Configuracion**  \n",
        "```\n",
        "nombre = timerBegin(ca=hannel, prescale, mode)\n",
        "```\n",
        "- channel: canal del temporizador (0 - 3)  \n",
        "- prescale: prescala (0 - 65535). La frecuencia de oscilacion del reloj interno, se dividira por la prescala.  \n",
        "- mode: ascendete (true), descendente (false).  \n",
        "\n",
        "*Al llamar a timerBegin() el timer iniciara automaticamente el conteo.*\n",
        "\n"
      ],
      "metadata": {
        "id": "tMcnSKnm1igN"
      }
    },
    {
      "cell_type": "markdown",
      "source": [
        "**Funciones de uso**  \n",
        "```\n",
        "timerEnd(timer)\n",
        "timerStart(timer)\n",
        "timerStop(timer)\n",
        "timerRestart(timer)\n",
        "timerRead(timer)\n",
        "timerReadMicros(timer)\n",
        "timerReadMillis(timer)\n",
        "timerReadSeconds(timer) // timepo transcurrido en segundos\n",
        "timerWrite(timer, val)\n",
        "\n",
        "// timer --> struct del timer\n",
        "// val   --> valor del contador(no es el tiempo transcurrido)\n",
        "```"
      ],
      "metadata": {
        "id": "HxbZ8bYX3hxa"
      }
    },
    {
      "cell_type": "markdown",
      "source": [
        "***Aclaracion:*** Si vamos a usar interrupciones por software, es necesario que la sentencia de configuracion del timer se encuantre antes que la interrupcion.*"
      ],
      "metadata": {
        "id": "yMO7Cr7B5Zwn"
      }
    },
    {
      "cell_type": "markdown",
      "source": [
        "## Frecuencia del timer\n",
        "Frecuencia de oscilacion interna del esp32  \n",
        "$$ F_{clock}=80MHz $$    \n",
        "Frecuencia del timer:  \n",
        "$$\n",
        "F_{timer}=\\frac{F_{clock}}{prescaler}\n",
        "$$"
      ],
      "metadata": {
        "id": "Me1EIR2y0bys"
      }
    },
    {
      "cell_type": "markdown",
      "source": [
        "Suponiendo que tenemos un...  \n",
        "$prescaler = 50000 = 50 \\times 10^{10}$    \n",
        "$$\n",
        "F_{timer}=\\frac{80000000 Hz}{50000}=1600 Hz\n",
        "$$\n",
        "\n",
        "$$\n",
        "\\begin{array}{rcl}\n",
        "1600 & \\leftrightarrow & 1 \\, \\text{seg} \\\\\n",
        "1 & \\leftrightarrow & x = \\frac{1 \\, \\text{seg}}{1600} = 0.000625 \\, \\text{seg} = 625 \\, \\mu\\text{seg}\n",
        "\\end{array}\n",
        "$$\n"
      ],
      "metadata": {
        "id": "uaJEaXBN7VNJ"
      }
    },
    {
      "cell_type": "code",
      "source": [
        "def f_Timer(F_clock, prescaler):\n",
        "  return F_clock/prescaler\n",
        "\n",
        "def samplesPerSec(f_Timer):\n",
        "  return 1/f_Timer\n",
        "\n",
        "def secondsToMicroSeconds(seconds):\n",
        "  return seconds*1000000\n",
        "\n",
        "def secondsToNanoSeconds(seconds):\n",
        "  return seconds*1000000000"
      ],
      "metadata": {
        "id": "tkiHLPS59QwN"
      },
      "execution_count": null,
      "outputs": []
    },
    {
      "cell_type": "code",
      "source": [
        "timerFrequency = f_Timer(80000000, 50000)\n",
        "timerFrequency"
      ],
      "metadata": {
        "colab": {
          "base_uri": "https://localhost:8080/"
        },
        "id": "mUNbnsb4-bx-",
        "outputId": "65e74cda-1957-421e-f1cb-207e16709cbc"
      },
      "execution_count": null,
      "outputs": [
        {
          "output_type": "execute_result",
          "data": {
            "text/plain": [
              "1600.0"
            ]
          },
          "metadata": {},
          "execution_count": 7
        }
      ]
    },
    {
      "cell_type": "code",
      "source": [
        "sampPerSec = samplesPerSec(timerFrequency)\n",
        "sampPerSec"
      ],
      "metadata": {
        "colab": {
          "base_uri": "https://localhost:8080/"
        },
        "id": "Xht33ENC-feN",
        "outputId": "3e369bb5-6b6f-4136-cce0-0f04a18a8289"
      },
      "execution_count": null,
      "outputs": [
        {
          "output_type": "execute_result",
          "data": {
            "text/plain": [
              "0.000625"
            ]
          },
          "metadata": {},
          "execution_count": 8
        }
      ]
    },
    {
      "cell_type": "code",
      "source": [
        "samplePerMicroSec = secondsToMicroSeconds(sampPerSec)\n",
        "samplePerMicroSec"
      ],
      "metadata": {
        "colab": {
          "base_uri": "https://localhost:8080/"
        },
        "id": "AbGPo2VF-lEY",
        "outputId": "2a4f0251-ed75-417f-b90c-539b82dc38ca"
      },
      "execution_count": null,
      "outputs": [
        {
          "output_type": "execute_result",
          "data": {
            "text/plain": [
              "625.0"
            ]
          },
          "metadata": {},
          "execution_count": 10
        }
      ]
    },
    {
      "cell_type": "code",
      "source": [],
      "metadata": {
        "id": "ZVbqXwl2_L0P"
      },
      "execution_count": null,
      "outputs": []
    },
    {
      "cell_type": "markdown",
      "source": [
        "# Interrupciones por Software"
      ],
      "metadata": {
        "id": "92_bv6o9BVRV"
      }
    },
    {
      "cell_type": "markdown",
      "source": [
        "Son segmentos de codigo que se ejecutan cuando sucede un evento interno (por ejemplo que cuando el contador llegue a un cierto valor, dispare la interrupcion)"
      ],
      "metadata": {
        "id": "MM89rem5BahK"
      }
    },
    {
      "cell_type": "markdown",
      "source": [
        "Se necesita un temporizador para activar la interrupcion  \n",
        "```\n",
        "hw_timer_t *nombre = timerBegin(ch, pre, mod);\n",
        "```\n",
        "Se requiere un funcion que se ejecutara cuando ocurra la interrupcion  \n",
        "```\n",
        "// Funcion que no retorna NINGUN VALOR\n",
        "void IRAM_ATTR nombre_func()\n",
        "{\n",
        "}\n",
        "```\n",
        "Las funciones ***IRAM_ATTR*** guardan su valor en la memoria **RAM** y no en la flash como se guardan comunmente. La memoria RAM es mucho mas rapida.  \n",
        "\n",
        "Se debe **asignar** la funcion con la interrupcion\n",
        "```\n",
        "timerAttachInterrupt(timer, handler, edge)\n",
        "```\n",
        "- timer: es el nombre del temporizador\n",
        "- handler: es la funcion que se ejecutara cuando suceda la interrupcion\n",
        "- edge: puente (true)"
      ],
      "metadata": {
        "id": "CJlJLcYFBqPx"
      }
    },
    {
      "cell_type": "markdown",
      "source": [
        "# Interrupciones por Hardware"
      ],
      "metadata": {
        "id": "vrzYXA0rHp_v"
      }
    },
    {
      "cell_type": "markdown",
      "source": [
        "Se ejecuta una seccion de codigo cuando se presenta un evento externo en algun GPIO."
      ],
      "metadata": {
        "id": "-KR1Fxr2Hukr"
      }
    },
    {
      "cell_type": "markdown",
      "source": [
        "Se debe configurar el GPIO\n",
        "```\n",
        "pinMode(pin, mode)\n",
        "```\n",
        "Se debe tener una funcion que se active cuando suceda la interrupcion\n",
        "```\n",
        "// Funcion que no retorna NINGUN VALOR\n",
        "void IRAM_ATTR nombre_func()\n",
        "{\n",
        "}\n",
        "```\n",
        "Se debe **asignar** la funcion de de interrupcion al pin\n",
        "```\n",
        "attachInterrupt(pin, handler, mode)\n",
        "```\n",
        "- pin: numero de pin del GPIO\n",
        "- handler: funcion de interrupcion\n",
        "- mode: modo de operacion"
      ],
      "metadata": {
        "id": "W6JRd_h6H3do"
      }
    },
    {
      "cell_type": "markdown",
      "source": [
        "***Modos compatibles de* ```mode```**\n",
        "- **DISABLED** deshabilitada\n",
        "- **RISING** flanco de subida (de LOW a HIGH)\n",
        "- **FALLING** flanco de bajada (de HIGH a LOW)\n",
        "- **CHANGE** cualquier cambio de estado\n",
        "- **ONLOW** mientras el estado sea LOW\n",
        "- **ONHIGH** mientras el estado sea HIGH"
      ],
      "metadata": {
        "id": "-v285k1qIiBM"
      }
    },
    {
      "cell_type": "markdown",
      "source": [
        "***Otras funciones de uso***\n",
        "```\n",
        "attachInterruptArg(pin, handler, arg, mode)\n",
        "```\n",
        "- arg: argumentos de la funcion"
      ],
      "metadata": {
        "id": "wBFSGkffJdxg"
      }
    },
    {
      "cell_type": "markdown",
      "source": [
        "```\n",
        "detach\n",
        "```"
      ],
      "metadata": {
        "id": "XEmyXHxtLBWF"
      }
    }
  ]
}